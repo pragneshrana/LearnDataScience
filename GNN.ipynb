{
  "nbformat": 4,
  "nbformat_minor": 0,
  "metadata": {
    "colab": {
      "name": "GNN.ipynb",
      "provenance": [],
      "authorship_tag": "ABX9TyPcWv1ZmdZxF4SQON65x0Ai",
      "include_colab_link": true
    },
    "kernelspec": {
      "name": "python3",
      "display_name": "Python 3"
    },
    "language_info": {
      "name": "python"
    }
  },
  "cells": [
    {
      "cell_type": "markdown",
      "metadata": {
        "id": "view-in-github",
        "colab_type": "text"
      },
      "source": [
        "<a href=\"https://colab.research.google.com/github/pragneshrana/LearnDataScience/blob/main/GNN.ipynb\" target=\"_parent\"><img src=\"https://colab.research.google.com/assets/colab-badge.svg\" alt=\"Open In Colab\"/></a>"
      ]
    },
    {
      "cell_type": "markdown",
      "source": [
        "Link: \n",
        "\n",
        "1.   https://arxiv.org/pdf/1812.08434.pdf\n",
        "2.   https://arxiv.org/abs/2011.02260\n",
        "\n",
        "\n",
        "Graph neural networks (GNNs) are connectionist models that capture the dependence of graphs via message passing between the nodes of graphs. Graph neural networks (GNNs) are connectionist models that capture the dependence of graphs via message passing between the nodes of graphs.\n",
        "\n",
        "Application:\n",
        "\n",
        "* Image classification by word embedding using ZSL\n",
        "\n",
        "  Zero shot learning (ZSL) refers to trying to learn to recognise classes that the model has not encountered in its training.\n",
        "* Text : text classification, sequence labelling, machine translation, relation and event extraction\n",
        "* Combinatorial Optimization: minimum vertex cover problem, maximum cut, the travelling salesman problem, minimum spanning tree, etc.\n",
        "*   Recommender Systems\n",
        "*   Social influence prediction\n",
        "*   https://arxiv.org/pdf/1812.08434.pdf\n"
      ],
      "metadata": {
        "id": "xQqch8_LGKwA"
      }
    },
    {
      "cell_type": "code",
      "execution_count": null,
      "metadata": {
        "id": "KygdGJKtEw4Y"
      },
      "outputs": [],
      "source": [
        ""
      ]
    }
  ]
}