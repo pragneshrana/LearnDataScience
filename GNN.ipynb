{
  "nbformat": 4,
  "nbformat_minor": 0,
  "metadata": {
    "colab": {
      "name": "GNN.ipynb",
      "provenance": [],
      "authorship_tag": "ABX9TyOoHXZiS6gOB/ZmeuHgcQKO",
      "include_colab_link": true
    },
    "kernelspec": {
      "name": "python3",
      "display_name": "Python 3"
    },
    "language_info": {
      "name": "python"
    }
  },
  "cells": [
    {
      "cell_type": "markdown",
      "metadata": {
        "id": "view-in-github",
        "colab_type": "text"
      },
      "source": [
        "<a href=\"https://colab.research.google.com/github/pragneshrana/LearnDataScience/blob/main/GNN.ipynb\" target=\"_parent\"><img src=\"https://colab.research.google.com/assets/colab-badge.svg\" alt=\"Open In Colab\"/></a>"
      ]
    },
    {
      "cell_type": "markdown",
      "source": [
        "Link: \n",
        "\n",
        "1.   https://arxiv.org/pdf/1812.08434.pdf\n",
        "2.   https://arxiv.org/abs/2011.02260\n",
        "\n",
        "\n",
        "Graph neural networks (GNNs) are connectionist models that capture the dependence of graphs via message passing between the nodes of graphs. Graph neural networks (GNNs) are connectionist models that capture the dependence of graphs via message passing between the nodes of graphs.\n",
        "\n",
        "Application:\n",
        "\n",
        "* Image classification by word embedding using ZSL\n",
        "\n",
        "  Zero shot learning (ZSL) refers to trying to learn to recognise classes that the model has not encountered in its training.\n",
        "* Text : text classification, sequence labelling, machine translation, relation and event extraction\n",
        "* Combinatorial Optimization: minimum vertex cover problem, maximum cut, the travelling salesman problem, minimum spanning tree, etc.\n",
        "*   Recommender Systems\n",
        "*   Social influence prediction\n",
        "* Medica/Pharmacy \n",
        "*   https://arxiv.org/pdf/1812.08434.pdf\n"
      ],
      "metadata": {
        "id": "xQqch8_LGKwA"
      }
    },
    {
      "cell_type": "code",
      "execution_count": 9,
      "metadata": {
        "id": "KygdGJKtEw4Y",
        "colab": {
          "base_uri": "https://localhost:8080/",
          "height": 248
        },
        "outputId": "39d1c2c6-a56c-414c-b26a-b62b3122ae64"
      },
      "outputs": [
        {
          "output_type": "display_data",
          "data": {
            "text/plain": [
              "<Figure size 432x288 with 1 Axes>"
            ],
            "image/png": "[encoded data removed]"
          },
          "metadata": {}
        }
      ],
      "source": [
        "import networkx as nx\n",
        "import matplotlib.pyplot as plt\n",
        "\n",
        "G = nx.DiGraph()\n",
        "G.add_edges_from(\n",
        "    [('A', 'B'), ('A', 'C'), ('D', 'B'), ('E', 'C'), ('E', 'F'),\n",
        "     ('B', 'H'), ('B', 'G'), ('B', 'F'), ('C', 'G')])\n",
        "\n",
        "\n",
        "\n",
        "pos = nx.spring_layout(G)\n",
        "nx.draw_networkx_nodes(G, pos, cmap=plt.get_cmap('jet'), node_size = 700)\n",
        "nx.draw_networkx_labels(G, pos)\n",
        "nx.draw_networkx_edges(G, pos, arrows=True)\n",
        "plt.show()"
      ]
    },
    {
      "cell_type": "markdown",
      "source": [
        "#### The adjacency matrix from the above graph can be written as,\n",
        "$\n",
        "\\begin{matrix}\n",
        "&A&B & C & D & E & F & G & H\\\\\n",
        "\\end{matrix} \\\\\n",
        "\\begin{matrix}\n",
        "A\\\\\n",
        "B\\\\\n",
        "C\\\\\n",
        "D\\\\\n",
        "E\\\\\n",
        "F\\\\\n",
        "G\\\\\n",
        "H\\\\ \n",
        "\\end{matrix}\n",
        "\\begin{bmatrix}\n",
        "0 & 1 & 1 & 0 & 0 & 0 & 0 & 0\\\\\n",
        "1 & 0 & 0 & 1 & 0 & 1 & 1 & 1\\\\\n",
        "1 & 0 & 0 & 0 & 1 & 0 & 1 & 0\\\\\n",
        "0 & 1 & 0 & 0 & 0 & 0 & 0 & 0\\\\\n",
        "0 & 0 & 1 & 0 & 0 & 1 & 0 & 0\\\\\n",
        "0 & 1 & 0 & 0 & 1 & 0 & 0 & 0\\\\\n",
        "0 & 1 & 1 & 0 & 0 & 0 & 0 & 0\\\\\n",
        "0 & 1 & 0 & 0 & 0 & 0 & 0 & 0\\\\\n",
        "\\end{bmatrix}\n",
        "$"
      ],
      "metadata": {
        "id": "JVtiFKeShsAl"
      }
    },
    {
      "cell_type": "code",
      "source": [
        ""
      ],
      "metadata": {
        "id": "TojcBJKIgeys"
      },
      "execution_count": null,
      "outputs": []
    }
  ]
}